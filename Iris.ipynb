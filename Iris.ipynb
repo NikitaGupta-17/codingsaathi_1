{
 "cells": [
  {
   "cell_type": "code",
   "execution_count": 15,
   "id": "6da1d486",
   "metadata": {},
   "outputs": [],
   "source": [
    "# Import models\n",
    "import numpy as np\n",
    "import pandas as pd\n",
    "import matplotlib.pyplot as plt\n",
    "from sklearn.linear_model import LinearRegression\n",
    "from sklearn.model_selection import train_test_split\n",
    "from sklearn.metrics import mean_squared_error,r2_score\n",
    "from sklearn.datasets import load_iris\n",
    "from sklearn.preprocessing import LabelEncoder\n",
    "from sklearn.svm import SVC\n",
    "from sklearn.metrics import confusion_matrix,accuracy_score"
   ]
  },
  {
   "cell_type": "code",
   "execution_count": 16,
   "id": "182357cc",
   "metadata": {},
   "outputs": [
    {
     "name": "stdout",
     "output_type": "stream",
     "text": [
      "Dataset : \n",
      "      sepal_length  sepal_width  petal_length  petal_width         species\n",
      "0             5.1          3.5           1.4          0.2     Iris-setosa\n",
      "1             4.9          3.0           1.4          0.2     Iris-setosa\n",
      "2             4.7          3.2           1.3          0.2     Iris-setosa\n",
      "3             4.6          3.1           1.5          0.2     Iris-setosa\n",
      "4             5.0          3.6           1.4          0.2      Iris-setos\n",
      "..            ...          ...           ...          ...             ...\n",
      "145           6.7          3.0           5.2          2.3  Iris-virginica\n",
      "146           6.3          2.5           5.0          1.9  Iris-virginica\n",
      "147           6.5          3.0           5.2          2.0  Iris-virginica\n",
      "148           6.2          3.4           5.4          2.3  Iris-virginica\n",
      "149           5.9          3.0           5.1          1.8  Iris-virginica\n",
      "\n",
      "[150 rows x 5 columns]\n"
     ]
    }
   ],
   "source": [
    "# read dataset\n",
    "iris=pd.read_csv(\"iris.csv\")\n",
    "print(\"Dataset : \\n\",iris)"
   ]
  },
  {
   "cell_type": "code",
   "execution_count": 17,
   "id": "0c8999a3",
   "metadata": {},
   "outputs": [],
   "source": [
    "#applying label encoding\n",
    "label_encoder =LabelEncoder()\n",
    "iris['species']= label_encoder.fit_transform(iris['species'])\n"
   ]
  },
  {
   "cell_type": "code",
   "execution_count": 18,
   "id": "7f1cd5ae",
   "metadata": {},
   "outputs": [
    {
     "name": "stdout",
     "output_type": "stream",
     "text": [
      "Independent variables are : \n",
      "      sepal_length  sepal_width  petal_length\n",
      "0             5.1          3.5           1.4\n",
      "1             4.9          3.0           1.4\n",
      "2             4.7          3.2           1.3\n",
      "3             4.6          3.1           1.5\n",
      "4             5.0          3.6           1.4\n",
      "..            ...          ...           ...\n",
      "145           6.7          3.0           5.2\n",
      "146           6.3          2.5           5.0\n",
      "147           6.5          3.0           5.2\n",
      "148           6.2          3.4           5.4\n",
      "149           5.9          3.0           5.1\n",
      "\n",
      "[150 rows x 3 columns]\n",
      "Dependent variables are : \n",
      " 0      1\n",
      "1      1\n",
      "2      1\n",
      "3      1\n",
      "4      0\n",
      "      ..\n",
      "145    3\n",
      "146    3\n",
      "147    3\n",
      "148    3\n",
      "149    3\n",
      "Name: species, Length: 150, dtype: int32\n"
     ]
    }
   ],
   "source": [
    "# Distinguish dependent and independent variables\n",
    "x=iris.iloc[:,:3]\n",
    "y=iris.iloc[:,-1]\n",
    "\n",
    "print(\"Independent variables are : \\n\",x)\n",
    "print(\"Dependent variables are : \\n\",y)"
   ]
  },
  {
   "cell_type": "code",
   "execution_count": 19,
   "id": "a47f65f6",
   "metadata": {},
   "outputs": [],
   "source": [
    "# split test and training data\n",
    "x_train,x_test,y_train,y_test=train_test_split(x,y,test_size=0.4,random_state=4)"
   ]
  },
  {
   "cell_type": "code",
   "execution_count": 20,
   "id": "ff399085",
   "metadata": {},
   "outputs": [],
   "source": [
    "#SVC model\n",
    "sv=SVC(kernel=\"linear\",random_state=42)\n",
    "model=sv.fit(x_train,y_train)\n",
    "y_pred=model.predict(x_test)\n"
   ]
  },
  {
   "cell_type": "code",
   "execution_count": 21,
   "id": "a36aac34",
   "metadata": {},
   "outputs": [
    {
     "name": "stdout",
     "output_type": "stream",
     "text": [
      "Confusion matrix : \n",
      " [[25  0  0]\n",
      " [ 0 16  0]\n",
      " [ 0  1 18]]\n",
      "Accuracy :  0.9833333333333333\n"
     ]
    }
   ],
   "source": [
    "print(\"Confusion matrix : \\n\",confusion_matrix(y_pred,y_test))\n",
    "print(\"Accuracy : \",accuracy_score(y_pred,y_test))"
   ]
  },
  {
   "cell_type": "code",
   "execution_count": null,
   "id": "419210ea",
   "metadata": {},
   "outputs": [],
   "source": []
  }
 ],
 "metadata": {
  "kernelspec": {
   "display_name": "Python 3 (ipykernel)",
   "language": "python",
   "name": "python3"
  },
  "language_info": {
   "codemirror_mode": {
    "name": "ipython",
    "version": 3
   },
   "file_extension": ".py",
   "mimetype": "text/x-python",
   "name": "python",
   "nbconvert_exporter": "python",
   "pygments_lexer": "ipython3",
   "version": "3.9.12"
  }
 },
 "nbformat": 4,
 "nbformat_minor": 5
}
